{
  "cells": [
    {
      "cell_type": "markdown",
      "metadata": {
        "id": "view-in-github",
        "colab_type": "text"
      },
      "source": [
        "<a href=\"https://colab.research.google.com/github/Abhishek-9641/lab-neural-networks/blob/master/challenge_1%20done.ipynb\" target=\"_parent\"><img src=\"https://colab.research.google.com/assets/colab-badge.svg\" alt=\"Open In Colab\"/></a>"
      ]
    },
    {
      "cell_type": "markdown",
      "metadata": {
        "id": "d9XaTtihZiZj"
      },
      "source": [
        "# Challenge 1 - Tic Tac Toe\n",
        "\n",
        "In this lab you will perform deep learning analysis on a dataset of playing [Tic Tac Toe](https://en.wikipedia.org/wiki/Tic-tac-toe).\n",
        "\n",
        "There are 9 grids in Tic Tac Toe that are coded as the following picture shows:\n",
        "\n",
        "![Tic Tac Toe Grids](tttboard.jpg)\n",
        "\n",
        "In the first 9 columns of the dataset you can find which marks (`x` or `o`) exist in the grids. If there is no mark in a certain grid, it is labeled as `b`. The last column is `class` which tells you whether Player X (who always moves first in Tic Tac Toe) wins in this configuration. Note that when `class` has the value `False`, it means either Player O wins the game or it ends up as a draw."
      ]
    },
    {
      "cell_type": "markdown",
      "metadata": {
        "id": "82kEH9rTZiZm"
      },
      "source": [
        "Follow the steps suggested below to conduct a neural network analysis using Tensorflow and Keras. You will build a deep learning model to predict whether Player X wins the game or not.\n",
        "\n",
        "## Step 1: Data Engineering\n",
        "\n",
        "This dataset is almost in the ready-to-use state so you do not need to worry about missing values and so on. Still, some simple data engineering is needed.\n",
        "\n",
        "1. Read `tic-tac-toe.csv` into a dataframe.\n",
        "1. Inspect the dataset. Determine if the dataset is reliable by eyeballing the data.\n",
        "1. Convert the categorical values to numeric in all columns.\n",
        "1. Separate the inputs and output.\n",
        "1. Normalize the input data."
      ]
    },
    {
      "cell_type": "code",
      "execution_count": 63,
      "metadata": {
        "colab": {
          "base_uri": "https://localhost:8080/",
          "height": 206
        },
        "id": "IN7mw32XZiZo",
        "outputId": "9267e4f6-2b2f-4007-8fd8-c6cca0b18174"
      },
      "outputs": [
        {
          "output_type": "execute_result",
          "data": {
            "text/plain": [
              "  TL TM TR ML MM MR BL BM BR  class\n",
              "0  x  x  x  x  o  o  x  o  o   True\n",
              "1  x  x  x  x  o  o  o  x  o   True\n",
              "2  x  x  x  x  o  o  o  o  x   True\n",
              "3  x  x  x  x  o  o  o  b  b   True\n",
              "4  x  x  x  x  o  o  b  o  b   True"
            ],
            "text/html": [
              "\n",
              "  <div id=\"df-ca306d4a-2787-468d-b873-a7696d6959a3\" class=\"colab-df-container\">\n",
              "    <div>\n",
              "<style scoped>\n",
              "    .dataframe tbody tr th:only-of-type {\n",
              "        vertical-align: middle;\n",
              "    }\n",
              "\n",
              "    .dataframe tbody tr th {\n",
              "        vertical-align: top;\n",
              "    }\n",
              "\n",
              "    .dataframe thead th {\n",
              "        text-align: right;\n",
              "    }\n",
              "</style>\n",
              "<table border=\"1\" class=\"dataframe\">\n",
              "  <thead>\n",
              "    <tr style=\"text-align: right;\">\n",
              "      <th></th>\n",
              "      <th>TL</th>\n",
              "      <th>TM</th>\n",
              "      <th>TR</th>\n",
              "      <th>ML</th>\n",
              "      <th>MM</th>\n",
              "      <th>MR</th>\n",
              "      <th>BL</th>\n",
              "      <th>BM</th>\n",
              "      <th>BR</th>\n",
              "      <th>class</th>\n",
              "    </tr>\n",
              "  </thead>\n",
              "  <tbody>\n",
              "    <tr>\n",
              "      <th>0</th>\n",
              "      <td>x</td>\n",
              "      <td>x</td>\n",
              "      <td>x</td>\n",
              "      <td>x</td>\n",
              "      <td>o</td>\n",
              "      <td>o</td>\n",
              "      <td>x</td>\n",
              "      <td>o</td>\n",
              "      <td>o</td>\n",
              "      <td>True</td>\n",
              "    </tr>\n",
              "    <tr>\n",
              "      <th>1</th>\n",
              "      <td>x</td>\n",
              "      <td>x</td>\n",
              "      <td>x</td>\n",
              "      <td>x</td>\n",
              "      <td>o</td>\n",
              "      <td>o</td>\n",
              "      <td>o</td>\n",
              "      <td>x</td>\n",
              "      <td>o</td>\n",
              "      <td>True</td>\n",
              "    </tr>\n",
              "    <tr>\n",
              "      <th>2</th>\n",
              "      <td>x</td>\n",
              "      <td>x</td>\n",
              "      <td>x</td>\n",
              "      <td>x</td>\n",
              "      <td>o</td>\n",
              "      <td>o</td>\n",
              "      <td>o</td>\n",
              "      <td>o</td>\n",
              "      <td>x</td>\n",
              "      <td>True</td>\n",
              "    </tr>\n",
              "    <tr>\n",
              "      <th>3</th>\n",
              "      <td>x</td>\n",
              "      <td>x</td>\n",
              "      <td>x</td>\n",
              "      <td>x</td>\n",
              "      <td>o</td>\n",
              "      <td>o</td>\n",
              "      <td>o</td>\n",
              "      <td>b</td>\n",
              "      <td>b</td>\n",
              "      <td>True</td>\n",
              "    </tr>\n",
              "    <tr>\n",
              "      <th>4</th>\n",
              "      <td>x</td>\n",
              "      <td>x</td>\n",
              "      <td>x</td>\n",
              "      <td>x</td>\n",
              "      <td>o</td>\n",
              "      <td>o</td>\n",
              "      <td>b</td>\n",
              "      <td>o</td>\n",
              "      <td>b</td>\n",
              "      <td>True</td>\n",
              "    </tr>\n",
              "  </tbody>\n",
              "</table>\n",
              "</div>\n",
              "    <div class=\"colab-df-buttons\">\n",
              "\n",
              "  <div class=\"colab-df-container\">\n",
              "    <button class=\"colab-df-convert\" onclick=\"convertToInteractive('df-ca306d4a-2787-468d-b873-a7696d6959a3')\"\n",
              "            title=\"Convert this dataframe to an interactive table.\"\n",
              "            style=\"display:none;\">\n",
              "\n",
              "  <svg xmlns=\"http://www.w3.org/2000/svg\" height=\"24px\" viewBox=\"0 -960 960 960\">\n",
              "    <path d=\"M120-120v-720h720v720H120Zm60-500h600v-160H180v160Zm220 220h160v-160H400v160Zm0 220h160v-160H400v160ZM180-400h160v-160H180v160Zm440 0h160v-160H620v160ZM180-180h160v-160H180v160Zm440 0h160v-160H620v160Z\"/>\n",
              "  </svg>\n",
              "    </button>\n",
              "\n",
              "  <style>\n",
              "    .colab-df-container {\n",
              "      display:flex;\n",
              "      gap: 12px;\n",
              "    }\n",
              "\n",
              "    .colab-df-convert {\n",
              "      background-color: #E8F0FE;\n",
              "      border: none;\n",
              "      border-radius: 50%;\n",
              "      cursor: pointer;\n",
              "      display: none;\n",
              "      fill: #1967D2;\n",
              "      height: 32px;\n",
              "      padding: 0 0 0 0;\n",
              "      width: 32px;\n",
              "    }\n",
              "\n",
              "    .colab-df-convert:hover {\n",
              "      background-color: #E2EBFA;\n",
              "      box-shadow: 0px 1px 2px rgba(60, 64, 67, 0.3), 0px 1px 3px 1px rgba(60, 64, 67, 0.15);\n",
              "      fill: #174EA6;\n",
              "    }\n",
              "\n",
              "    .colab-df-buttons div {\n",
              "      margin-bottom: 4px;\n",
              "    }\n",
              "\n",
              "    [theme=dark] .colab-df-convert {\n",
              "      background-color: #3B4455;\n",
              "      fill: #D2E3FC;\n",
              "    }\n",
              "\n",
              "    [theme=dark] .colab-df-convert:hover {\n",
              "      background-color: #434B5C;\n",
              "      box-shadow: 0px 1px 3px 1px rgba(0, 0, 0, 0.15);\n",
              "      filter: drop-shadow(0px 1px 2px rgba(0, 0, 0, 0.3));\n",
              "      fill: #FFFFFF;\n",
              "    }\n",
              "  </style>\n",
              "\n",
              "    <script>\n",
              "      const buttonEl =\n",
              "        document.querySelector('#df-ca306d4a-2787-468d-b873-a7696d6959a3 button.colab-df-convert');\n",
              "      buttonEl.style.display =\n",
              "        google.colab.kernel.accessAllowed ? 'block' : 'none';\n",
              "\n",
              "      async function convertToInteractive(key) {\n",
              "        const element = document.querySelector('#df-ca306d4a-2787-468d-b873-a7696d6959a3');\n",
              "        const dataTable =\n",
              "          await google.colab.kernel.invokeFunction('convertToInteractive',\n",
              "                                                    [key], {});\n",
              "        if (!dataTable) return;\n",
              "\n",
              "        const docLinkHtml = 'Like what you see? Visit the ' +\n",
              "          '<a target=\"_blank\" href=https://colab.research.google.com/notebooks/data_table.ipynb>data table notebook</a>'\n",
              "          + ' to learn more about interactive tables.';\n",
              "        element.innerHTML = '';\n",
              "        dataTable['output_type'] = 'display_data';\n",
              "        await google.colab.output.renderOutput(dataTable, element);\n",
              "        const docLink = document.createElement('div');\n",
              "        docLink.innerHTML = docLinkHtml;\n",
              "        element.appendChild(docLink);\n",
              "      }\n",
              "    </script>\n",
              "  </div>\n",
              "\n",
              "\n",
              "    <div id=\"df-1960915d-8305-4672-a320-75b5192ae0a5\">\n",
              "      <button class=\"colab-df-quickchart\" onclick=\"quickchart('df-1960915d-8305-4672-a320-75b5192ae0a5')\"\n",
              "                title=\"Suggest charts\"\n",
              "                style=\"display:none;\">\n",
              "\n",
              "<svg xmlns=\"http://www.w3.org/2000/svg\" height=\"24px\"viewBox=\"0 0 24 24\"\n",
              "     width=\"24px\">\n",
              "    <g>\n",
              "        <path d=\"M19 3H5c-1.1 0-2 .9-2 2v14c0 1.1.9 2 2 2h14c1.1 0 2-.9 2-2V5c0-1.1-.9-2-2-2zM9 17H7v-7h2v7zm4 0h-2V7h2v10zm4 0h-2v-4h2v4z\"/>\n",
              "    </g>\n",
              "</svg>\n",
              "      </button>\n",
              "\n",
              "<style>\n",
              "  .colab-df-quickchart {\n",
              "      --bg-color: #E8F0FE;\n",
              "      --fill-color: #1967D2;\n",
              "      --hover-bg-color: #E2EBFA;\n",
              "      --hover-fill-color: #174EA6;\n",
              "      --disabled-fill-color: #AAA;\n",
              "      --disabled-bg-color: #DDD;\n",
              "  }\n",
              "\n",
              "  [theme=dark] .colab-df-quickchart {\n",
              "      --bg-color: #3B4455;\n",
              "      --fill-color: #D2E3FC;\n",
              "      --hover-bg-color: #434B5C;\n",
              "      --hover-fill-color: #FFFFFF;\n",
              "      --disabled-bg-color: #3B4455;\n",
              "      --disabled-fill-color: #666;\n",
              "  }\n",
              "\n",
              "  .colab-df-quickchart {\n",
              "    background-color: var(--bg-color);\n",
              "    border: none;\n",
              "    border-radius: 50%;\n",
              "    cursor: pointer;\n",
              "    display: none;\n",
              "    fill: var(--fill-color);\n",
              "    height: 32px;\n",
              "    padding: 0;\n",
              "    width: 32px;\n",
              "  }\n",
              "\n",
              "  .colab-df-quickchart:hover {\n",
              "    background-color: var(--hover-bg-color);\n",
              "    box-shadow: 0 1px 2px rgba(60, 64, 67, 0.3), 0 1px 3px 1px rgba(60, 64, 67, 0.15);\n",
              "    fill: var(--button-hover-fill-color);\n",
              "  }\n",
              "\n",
              "  .colab-df-quickchart-complete:disabled,\n",
              "  .colab-df-quickchart-complete:disabled:hover {\n",
              "    background-color: var(--disabled-bg-color);\n",
              "    fill: var(--disabled-fill-color);\n",
              "    box-shadow: none;\n",
              "  }\n",
              "\n",
              "  .colab-df-spinner {\n",
              "    border: 2px solid var(--fill-color);\n",
              "    border-color: transparent;\n",
              "    border-bottom-color: var(--fill-color);\n",
              "    animation:\n",
              "      spin 1s steps(1) infinite;\n",
              "  }\n",
              "\n",
              "  @keyframes spin {\n",
              "    0% {\n",
              "      border-color: transparent;\n",
              "      border-bottom-color: var(--fill-color);\n",
              "      border-left-color: var(--fill-color);\n",
              "    }\n",
              "    20% {\n",
              "      border-color: transparent;\n",
              "      border-left-color: var(--fill-color);\n",
              "      border-top-color: var(--fill-color);\n",
              "    }\n",
              "    30% {\n",
              "      border-color: transparent;\n",
              "      border-left-color: var(--fill-color);\n",
              "      border-top-color: var(--fill-color);\n",
              "      border-right-color: var(--fill-color);\n",
              "    }\n",
              "    40% {\n",
              "      border-color: transparent;\n",
              "      border-right-color: var(--fill-color);\n",
              "      border-top-color: var(--fill-color);\n",
              "    }\n",
              "    60% {\n",
              "      border-color: transparent;\n",
              "      border-right-color: var(--fill-color);\n",
              "    }\n",
              "    80% {\n",
              "      border-color: transparent;\n",
              "      border-right-color: var(--fill-color);\n",
              "      border-bottom-color: var(--fill-color);\n",
              "    }\n",
              "    90% {\n",
              "      border-color: transparent;\n",
              "      border-bottom-color: var(--fill-color);\n",
              "    }\n",
              "  }\n",
              "</style>\n",
              "\n",
              "      <script>\n",
              "        async function quickchart(key) {\n",
              "          const quickchartButtonEl =\n",
              "            document.querySelector('#' + key + ' button');\n",
              "          quickchartButtonEl.disabled = true;  // To prevent multiple clicks.\n",
              "          quickchartButtonEl.classList.add('colab-df-spinner');\n",
              "          try {\n",
              "            const charts = await google.colab.kernel.invokeFunction(\n",
              "                'suggestCharts', [key], {});\n",
              "          } catch (error) {\n",
              "            console.error('Error during call to suggestCharts:', error);\n",
              "          }\n",
              "          quickchartButtonEl.classList.remove('colab-df-spinner');\n",
              "          quickchartButtonEl.classList.add('colab-df-quickchart-complete');\n",
              "        }\n",
              "        (() => {\n",
              "          let quickchartButtonEl =\n",
              "            document.querySelector('#df-1960915d-8305-4672-a320-75b5192ae0a5 button');\n",
              "          quickchartButtonEl.style.display =\n",
              "            google.colab.kernel.accessAllowed ? 'block' : 'none';\n",
              "        })();\n",
              "      </script>\n",
              "    </div>\n",
              "\n",
              "    </div>\n",
              "  </div>\n"
            ],
            "application/vnd.google.colaboratory.intrinsic+json": {
              "type": "dataframe",
              "variable_name": "df_ttt",
              "summary": "{\n  \"name\": \"df_ttt\",\n  \"rows\": 958,\n  \"fields\": [\n    {\n      \"column\": \"TL\",\n      \"properties\": {\n        \"dtype\": \"category\",\n        \"num_unique_values\": 3,\n        \"samples\": [\n          \"x\",\n          \"o\",\n          \"b\"\n        ],\n        \"semantic_type\": \"\",\n        \"description\": \"\"\n      }\n    },\n    {\n      \"column\": \"TM\",\n      \"properties\": {\n        \"dtype\": \"category\",\n        \"num_unique_values\": 3,\n        \"samples\": [\n          \"x\",\n          \"o\",\n          \"b\"\n        ],\n        \"semantic_type\": \"\",\n        \"description\": \"\"\n      }\n    },\n    {\n      \"column\": \"TR\",\n      \"properties\": {\n        \"dtype\": \"category\",\n        \"num_unique_values\": 3,\n        \"samples\": [\n          \"x\",\n          \"o\",\n          \"b\"\n        ],\n        \"semantic_type\": \"\",\n        \"description\": \"\"\n      }\n    },\n    {\n      \"column\": \"ML\",\n      \"properties\": {\n        \"dtype\": \"category\",\n        \"num_unique_values\": 3,\n        \"samples\": [\n          \"x\",\n          \"o\",\n          \"b\"\n        ],\n        \"semantic_type\": \"\",\n        \"description\": \"\"\n      }\n    },\n    {\n      \"column\": \"MM\",\n      \"properties\": {\n        \"dtype\": \"category\",\n        \"num_unique_values\": 3,\n        \"samples\": [\n          \"o\",\n          \"b\",\n          \"x\"\n        ],\n        \"semantic_type\": \"\",\n        \"description\": \"\"\n      }\n    },\n    {\n      \"column\": \"MR\",\n      \"properties\": {\n        \"dtype\": \"category\",\n        \"num_unique_values\": 3,\n        \"samples\": [\n          \"o\",\n          \"b\",\n          \"x\"\n        ],\n        \"semantic_type\": \"\",\n        \"description\": \"\"\n      }\n    },\n    {\n      \"column\": \"BL\",\n      \"properties\": {\n        \"dtype\": \"category\",\n        \"num_unique_values\": 3,\n        \"samples\": [\n          \"x\",\n          \"o\",\n          \"b\"\n        ],\n        \"semantic_type\": \"\",\n        \"description\": \"\"\n      }\n    },\n    {\n      \"column\": \"BM\",\n      \"properties\": {\n        \"dtype\": \"category\",\n        \"num_unique_values\": 3,\n        \"samples\": [\n          \"o\",\n          \"x\",\n          \"b\"\n        ],\n        \"semantic_type\": \"\",\n        \"description\": \"\"\n      }\n    },\n    {\n      \"column\": \"BR\",\n      \"properties\": {\n        \"dtype\": \"category\",\n        \"num_unique_values\": 3,\n        \"samples\": [\n          \"o\",\n          \"x\",\n          \"b\"\n        ],\n        \"semantic_type\": \"\",\n        \"description\": \"\"\n      }\n    },\n    {\n      \"column\": \"class\",\n      \"properties\": {\n        \"dtype\": \"boolean\",\n        \"num_unique_values\": 2,\n        \"samples\": [\n          false,\n          true\n        ],\n        \"semantic_type\": \"\",\n        \"description\": \"\"\n      }\n    }\n  ]\n}"
            }
          },
          "metadata": {},
          "execution_count": 63
        }
      ],
      "source": [
        "import numpy as np\n",
        "import pandas as pd\n",
        "\n",
        "#1 read the csv file\n",
        "df = pd.read_csv('/tic-tac-toe.csv')\n",
        "\n",
        "df_ttt = df.copy()\n",
        "df_ttt.head()"
      ]
    },
    {
      "cell_type": "code",
      "source": [
        "#2 inspect the file\n",
        "\n",
        "df_ttt.shape"
      ],
      "metadata": {
        "colab": {
          "base_uri": "https://localhost:8080/",
          "height": 0
        },
        "id": "cMP2u-ayb_sX",
        "outputId": "b8da8bf0-affd-4ddc-ef1f-f1fbb4358a49"
      },
      "execution_count": 64,
      "outputs": [
        {
          "output_type": "execute_result",
          "data": {
            "text/plain": [
              "(958, 10)"
            ]
          },
          "metadata": {},
          "execution_count": 64
        }
      ]
    },
    {
      "cell_type": "code",
      "source": [
        "df_ttt. isnull().sum()"
      ],
      "metadata": {
        "colab": {
          "base_uri": "https://localhost:8080/",
          "height": 397
        },
        "id": "KvyOSIw1cOAt",
        "outputId": "576c8efa-0bcf-46a7-c910-e4e4470be9ee"
      },
      "execution_count": 65,
      "outputs": [
        {
          "output_type": "execute_result",
          "data": {
            "text/plain": [
              "TL       0\n",
              "TM       0\n",
              "TR       0\n",
              "ML       0\n",
              "MM       0\n",
              "MR       0\n",
              "BL       0\n",
              "BM       0\n",
              "BR       0\n",
              "class    0\n",
              "dtype: int64"
            ],
            "text/html": [
              "<div>\n",
              "<style scoped>\n",
              "    .dataframe tbody tr th:only-of-type {\n",
              "        vertical-align: middle;\n",
              "    }\n",
              "\n",
              "    .dataframe tbody tr th {\n",
              "        vertical-align: top;\n",
              "    }\n",
              "\n",
              "    .dataframe thead th {\n",
              "        text-align: right;\n",
              "    }\n",
              "</style>\n",
              "<table border=\"1\" class=\"dataframe\">\n",
              "  <thead>\n",
              "    <tr style=\"text-align: right;\">\n",
              "      <th></th>\n",
              "      <th>0</th>\n",
              "    </tr>\n",
              "  </thead>\n",
              "  <tbody>\n",
              "    <tr>\n",
              "      <th>TL</th>\n",
              "      <td>0</td>\n",
              "    </tr>\n",
              "    <tr>\n",
              "      <th>TM</th>\n",
              "      <td>0</td>\n",
              "    </tr>\n",
              "    <tr>\n",
              "      <th>TR</th>\n",
              "      <td>0</td>\n",
              "    </tr>\n",
              "    <tr>\n",
              "      <th>ML</th>\n",
              "      <td>0</td>\n",
              "    </tr>\n",
              "    <tr>\n",
              "      <th>MM</th>\n",
              "      <td>0</td>\n",
              "    </tr>\n",
              "    <tr>\n",
              "      <th>MR</th>\n",
              "      <td>0</td>\n",
              "    </tr>\n",
              "    <tr>\n",
              "      <th>BL</th>\n",
              "      <td>0</td>\n",
              "    </tr>\n",
              "    <tr>\n",
              "      <th>BM</th>\n",
              "      <td>0</td>\n",
              "    </tr>\n",
              "    <tr>\n",
              "      <th>BR</th>\n",
              "      <td>0</td>\n",
              "    </tr>\n",
              "    <tr>\n",
              "      <th>class</th>\n",
              "      <td>0</td>\n",
              "    </tr>\n",
              "  </tbody>\n",
              "</table>\n",
              "</div><br><label><b>dtype:</b> int64</label>"
            ]
          },
          "metadata": {},
          "execution_count": 65
        }
      ]
    },
    {
      "cell_type": "code",
      "source": [
        "#3 and #4 Separate X and y. Convert the categorical values to numeric in all columns.\n",
        "\n",
        "X = df_ttt.drop(columns=[\"class\"])\n",
        "y = df_ttt[\"class\"]\n",
        "\n",
        "# Convert boolean target to integer\n",
        "y = y.astype(int)\n",
        "\n",
        "# Convert categorical values to numeric using one-hot encoding\n",
        "X = pd.get_dummies(X)\n",
        "\n",
        "#5 Normalize input data.\n",
        "from sklearn.preprocessing import StandardScaler\n",
        "scaler = StandardScaler()\n",
        "X = scaler.fit_transform(X)"
      ],
      "metadata": {
        "id": "CVOfZrdBcOLV"
      },
      "execution_count": 93,
      "outputs": []
    },
    {
      "cell_type": "code",
      "source": [
        "from google.colab import drive\n",
        "drive.mount('/content/drive')"
      ],
      "metadata": {
        "colab": {
          "base_uri": "https://localhost:8080/",
          "height": 0
        },
        "id": "2RqzGCbyaLFL",
        "outputId": "e78d31f4-068d-492b-edca-ff2a3fedeb48"
      },
      "execution_count": 68,
      "outputs": [
        {
          "output_type": "stream",
          "name": "stdout",
          "text": [
            "Drive already mounted at /content/drive; to attempt to forcibly remount, call drive.mount(\"/content/drive\", force_remount=True).\n"
          ]
        }
      ]
    },
    {
      "cell_type": "markdown",
      "metadata": {
        "id": "iX4xj1LBZiZp"
      },
      "source": [
        "## Step 2: Build Neural Network\n",
        "\n",
        "To build the neural network, you can refer to your own codes you wrote while following the [Deep Learning with Python, TensorFlow, and Keras tutorial](https://www.youtube.com/watch?v=wQ8BIBpya2k) in the lesson. It's pretty similar to what you will be doing in this lab.\n",
        "\n",
        "1. Split the training and test data.\n",
        "1. Create a `Sequential` model.\n",
        "1. Add several layers to your model. Make sure you use ReLU as the activation function for the middle layers. Use Softmax for the output layer because each output has a single lable and all the label probabilities add up to 1.\n",
        "1. Compile the model using `adam` as the optimizer and `sparse_categorical_crossentropy` as the loss function. For metrics, use `accuracy` for now.\n",
        "1. Fit the training data.\n",
        "1. Evaluate your neural network model with the test data.\n",
        "1. Save your model as `tic-tac-toe.model`."
      ]
    },
    {
      "cell_type": "code",
      "source": [
        "#Step 2\n",
        "#1 Split the training and test data.\n",
        "from sklearn.model_selection import train_test_split\n",
        "\n",
        "X_train, X_test, y_train, y_test = train_test_split(X, y, test_size=0.2, random_state=42)\n",
        "\n"
      ],
      "metadata": {
        "id": "gg55MuVLZ2Hn"
      },
      "execution_count": 97,
      "outputs": []
    },
    {
      "cell_type": "code",
      "source": [
        "#2 Create a Sequential model."
      ],
      "metadata": {
        "id": "eUilfxI1khJd"
      },
      "execution_count": null,
      "outputs": []
    },
    {
      "cell_type": "code",
      "source": [
        "from tensorflow.keras.models import Sequential\n",
        "from tensorflow.keras.layers import Dense"
      ],
      "metadata": {
        "id": "cAWCM02cfxEM"
      },
      "execution_count": 114,
      "outputs": []
    },
    {
      "cell_type": "code",
      "source": [
        "model = keras.Sequential()\n",
        "\n",
        "#3 Add several layers\n",
        "model.add(Dense(128, activation ='relu', input_shape=(X_train.shape[1],)))\n",
        "model.add(Dense(64, activation = 'relu'))\n",
        "model.add(Dense(2, activation='softmax'))\n",
        "\n",
        "#4 compiling the model using 'adam' and sparse_categorical_crossentropy as loss function\n",
        "model.compile(optimizer='adam',\n",
        "              loss='sparse_categorical_crossentropy',\n",
        "              metrics=['accuracy'])\n",
        "\n",
        "\n"
      ],
      "metadata": {
        "id": "30JmEJ5Ufw82"
      },
      "execution_count": 121,
      "outputs": []
    },
    {
      "cell_type": "code",
      "source": [
        " #5v Fit the training data.\n",
        "\n",
        " model.fit(X, y, epochs = 100, verbose = 2)"
      ],
      "metadata": {
        "colab": {
          "base_uri": "https://localhost:8080/",
          "height": 0
        },
        "id": "qHcxrCi9uCDx",
        "outputId": "00dc86d4-1a1d-43c4-8d87-bdf436f08e2b"
      },
      "execution_count": 122,
      "outputs": [
        {
          "output_type": "stream",
          "name": "stdout",
          "text": [
            "Epoch 1/100\n",
            "30/30 - 2s - 54ms/step - accuracy: 0.6618 - loss: 0.6109\n",
            "Epoch 2/100\n",
            "30/30 - 0s - 5ms/step - accuracy: 0.7672 - loss: 0.4713\n",
            "Epoch 3/100\n",
            "30/30 - 0s - 10ms/step - accuracy: 0.8246 - loss: 0.3878\n",
            "Epoch 4/100\n",
            "30/30 - 0s - 10ms/step - accuracy: 0.8894 - loss: 0.3034\n",
            "Epoch 5/100\n",
            "30/30 - 0s - 11ms/step - accuracy: 0.9374 - loss: 0.2319\n",
            "Epoch 6/100\n",
            "30/30 - 0s - 5ms/step - accuracy: 0.9687 - loss: 0.1574\n",
            "Epoch 7/100\n",
            "30/30 - 0s - 10ms/step - accuracy: 0.9739 - loss: 0.1135\n",
            "Epoch 8/100\n",
            "30/30 - 0s - 9ms/step - accuracy: 0.9864 - loss: 0.0795\n",
            "Epoch 9/100\n",
            "30/30 - 0s - 5ms/step - accuracy: 0.9927 - loss: 0.0569\n",
            "Epoch 10/100\n",
            "30/30 - 0s - 3ms/step - accuracy: 0.9948 - loss: 0.0419\n",
            "Epoch 11/100\n",
            "30/30 - 0s - 3ms/step - accuracy: 1.0000 - loss: 0.0289\n",
            "Epoch 12/100\n",
            "30/30 - 0s - 4ms/step - accuracy: 1.0000 - loss: 0.0227\n",
            "Epoch 13/100\n",
            "30/30 - 0s - 4ms/step - accuracy: 1.0000 - loss: 0.0184\n",
            "Epoch 14/100\n",
            "30/30 - 0s - 5ms/step - accuracy: 1.0000 - loss: 0.0154\n",
            "Epoch 15/100\n",
            "30/30 - 0s - 3ms/step - accuracy: 1.0000 - loss: 0.0126\n",
            "Epoch 16/100\n",
            "30/30 - 0s - 5ms/step - accuracy: 1.0000 - loss: 0.0100\n",
            "Epoch 17/100\n",
            "30/30 - 0s - 5ms/step - accuracy: 1.0000 - loss: 0.0083\n",
            "Epoch 18/100\n",
            "30/30 - 0s - 4ms/step - accuracy: 1.0000 - loss: 0.0070\n",
            "Epoch 19/100\n",
            "30/30 - 0s - 5ms/step - accuracy: 1.0000 - loss: 0.0058\n",
            "Epoch 20/100\n",
            "30/30 - 0s - 5ms/step - accuracy: 1.0000 - loss: 0.0054\n",
            "Epoch 21/100\n",
            "30/30 - 0s - 5ms/step - accuracy: 1.0000 - loss: 0.0047\n",
            "Epoch 22/100\n",
            "30/30 - 0s - 3ms/step - accuracy: 1.0000 - loss: 0.0039\n",
            "Epoch 23/100\n",
            "30/30 - 0s - 3ms/step - accuracy: 1.0000 - loss: 0.0034\n",
            "Epoch 24/100\n",
            "30/30 - 0s - 3ms/step - accuracy: 1.0000 - loss: 0.0031\n",
            "Epoch 25/100\n",
            "30/30 - 0s - 5ms/step - accuracy: 1.0000 - loss: 0.0028\n",
            "Epoch 26/100\n",
            "30/30 - 0s - 3ms/step - accuracy: 1.0000 - loss: 0.0025\n",
            "Epoch 27/100\n",
            "30/30 - 0s - 5ms/step - accuracy: 1.0000 - loss: 0.0023\n",
            "Epoch 28/100\n",
            "30/30 - 0s - 5ms/step - accuracy: 1.0000 - loss: 0.0021\n",
            "Epoch 29/100\n",
            "30/30 - 0s - 4ms/step - accuracy: 1.0000 - loss: 0.0019\n",
            "Epoch 30/100\n",
            "30/30 - 0s - 3ms/step - accuracy: 1.0000 - loss: 0.0017\n",
            "Epoch 31/100\n",
            "30/30 - 0s - 5ms/step - accuracy: 1.0000 - loss: 0.0016\n",
            "Epoch 32/100\n",
            "30/30 - 0s - 5ms/step - accuracy: 1.0000 - loss: 0.0014\n",
            "Epoch 33/100\n",
            "30/30 - 0s - 5ms/step - accuracy: 1.0000 - loss: 0.0013\n",
            "Epoch 34/100\n",
            "30/30 - 0s - 5ms/step - accuracy: 1.0000 - loss: 0.0012\n",
            "Epoch 35/100\n",
            "30/30 - 0s - 3ms/step - accuracy: 1.0000 - loss: 0.0012\n",
            "Epoch 36/100\n",
            "30/30 - 0s - 4ms/step - accuracy: 1.0000 - loss: 0.0011\n",
            "Epoch 37/100\n",
            "30/30 - 0s - 3ms/step - accuracy: 1.0000 - loss: 0.0010\n",
            "Epoch 38/100\n",
            "30/30 - 0s - 3ms/step - accuracy: 1.0000 - loss: 9.3799e-04\n",
            "Epoch 39/100\n",
            "30/30 - 0s - 5ms/step - accuracy: 1.0000 - loss: 8.8669e-04\n",
            "Epoch 40/100\n",
            "30/30 - 0s - 5ms/step - accuracy: 1.0000 - loss: 8.4047e-04\n",
            "Epoch 41/100\n",
            "30/30 - 0s - 3ms/step - accuracy: 1.0000 - loss: 7.8484e-04\n",
            "Epoch 42/100\n",
            "30/30 - 0s - 5ms/step - accuracy: 1.0000 - loss: 7.3134e-04\n",
            "Epoch 43/100\n",
            "30/30 - 0s - 3ms/step - accuracy: 1.0000 - loss: 6.9624e-04\n",
            "Epoch 44/100\n",
            "30/30 - 0s - 5ms/step - accuracy: 1.0000 - loss: 6.6382e-04\n",
            "Epoch 45/100\n",
            "30/30 - 0s - 4ms/step - accuracy: 1.0000 - loss: 6.1652e-04\n",
            "Epoch 46/100\n",
            "30/30 - 0s - 4ms/step - accuracy: 1.0000 - loss: 5.9366e-04\n",
            "Epoch 47/100\n",
            "30/30 - 0s - 3ms/step - accuracy: 1.0000 - loss: 5.5873e-04\n",
            "Epoch 48/100\n",
            "30/30 - 0s - 3ms/step - accuracy: 1.0000 - loss: 5.2756e-04\n",
            "Epoch 49/100\n",
            "30/30 - 0s - 3ms/step - accuracy: 1.0000 - loss: 5.0597e-04\n",
            "Epoch 50/100\n",
            "30/30 - 0s - 5ms/step - accuracy: 1.0000 - loss: 4.7532e-04\n",
            "Epoch 51/100\n",
            "30/30 - 0s - 5ms/step - accuracy: 1.0000 - loss: 4.5325e-04\n",
            "Epoch 52/100\n",
            "30/30 - 0s - 3ms/step - accuracy: 1.0000 - loss: 4.3127e-04\n",
            "Epoch 53/100\n",
            "30/30 - 0s - 5ms/step - accuracy: 1.0000 - loss: 4.1734e-04\n",
            "Epoch 54/100\n",
            "30/30 - 0s - 4ms/step - accuracy: 1.0000 - loss: 3.9309e-04\n",
            "Epoch 55/100\n",
            "30/30 - 0s - 5ms/step - accuracy: 1.0000 - loss: 3.8083e-04\n",
            "Epoch 56/100\n",
            "30/30 - 0s - 3ms/step - accuracy: 1.0000 - loss: 3.5725e-04\n",
            "Epoch 57/100\n",
            "30/30 - 0s - 3ms/step - accuracy: 1.0000 - loss: 3.4295e-04\n",
            "Epoch 58/100\n",
            "30/30 - 0s - 5ms/step - accuracy: 1.0000 - loss: 3.3266e-04\n",
            "Epoch 59/100\n",
            "30/30 - 0s - 3ms/step - accuracy: 1.0000 - loss: 3.1588e-04\n",
            "Epoch 60/100\n",
            "30/30 - 0s - 5ms/step - accuracy: 1.0000 - loss: 2.9988e-04\n",
            "Epoch 61/100\n",
            "30/30 - 0s - 4ms/step - accuracy: 1.0000 - loss: 2.8971e-04\n",
            "Epoch 62/100\n",
            "30/30 - 0s - 5ms/step - accuracy: 1.0000 - loss: 2.7713e-04\n",
            "Epoch 63/100\n",
            "30/30 - 0s - 3ms/step - accuracy: 1.0000 - loss: 2.7371e-04\n",
            "Epoch 64/100\n",
            "30/30 - 0s - 3ms/step - accuracy: 1.0000 - loss: 2.5410e-04\n",
            "Epoch 65/100\n",
            "30/30 - 0s - 3ms/step - accuracy: 1.0000 - loss: 2.4767e-04\n",
            "Epoch 66/100\n",
            "30/30 - 0s - 3ms/step - accuracy: 1.0000 - loss: 2.3739e-04\n",
            "Epoch 67/100\n",
            "30/30 - 0s - 5ms/step - accuracy: 1.0000 - loss: 2.2970e-04\n",
            "Epoch 68/100\n",
            "30/30 - 0s - 5ms/step - accuracy: 1.0000 - loss: 2.1933e-04\n",
            "Epoch 69/100\n",
            "30/30 - 0s - 3ms/step - accuracy: 1.0000 - loss: 2.1167e-04\n",
            "Epoch 70/100\n",
            "30/30 - 0s - 5ms/step - accuracy: 1.0000 - loss: 2.0516e-04\n",
            "Epoch 71/100\n",
            "30/30 - 0s - 3ms/step - accuracy: 1.0000 - loss: 1.9723e-04\n",
            "Epoch 72/100\n",
            "30/30 - 0s - 5ms/step - accuracy: 1.0000 - loss: 1.8839e-04\n",
            "Epoch 73/100\n",
            "30/30 - 0s - 3ms/step - accuracy: 1.0000 - loss: 1.8261e-04\n",
            "Epoch 74/100\n",
            "30/30 - 0s - 5ms/step - accuracy: 1.0000 - loss: 1.7732e-04\n",
            "Epoch 75/100\n",
            "30/30 - 0s - 3ms/step - accuracy: 1.0000 - loss: 1.7097e-04\n",
            "Epoch 76/100\n",
            "30/30 - 0s - 5ms/step - accuracy: 1.0000 - loss: 1.6392e-04\n",
            "Epoch 77/100\n",
            "30/30 - 0s - 5ms/step - accuracy: 1.0000 - loss: 1.5875e-04\n",
            "Epoch 78/100\n",
            "30/30 - 0s - 5ms/step - accuracy: 1.0000 - loss: 1.5483e-04\n",
            "Epoch 79/100\n",
            "30/30 - 0s - 4ms/step - accuracy: 1.0000 - loss: 1.5283e-04\n",
            "Epoch 80/100\n",
            "30/30 - 0s - 3ms/step - accuracy: 1.0000 - loss: 1.4439e-04\n",
            "Epoch 81/100\n",
            "30/30 - 0s - 5ms/step - accuracy: 1.0000 - loss: 1.3930e-04\n",
            "Epoch 82/100\n",
            "30/30 - 0s - 5ms/step - accuracy: 1.0000 - loss: 1.3517e-04\n",
            "Epoch 83/100\n",
            "30/30 - 0s - 3ms/step - accuracy: 1.0000 - loss: 1.3048e-04\n",
            "Epoch 84/100\n",
            "30/30 - 0s - 3ms/step - accuracy: 1.0000 - loss: 1.2753e-04\n",
            "Epoch 85/100\n",
            "30/30 - 0s - 3ms/step - accuracy: 1.0000 - loss: 1.2225e-04\n",
            "Epoch 86/100\n",
            "30/30 - 0s - 5ms/step - accuracy: 1.0000 - loss: 1.1776e-04\n",
            "Epoch 87/100\n",
            "30/30 - 0s - 4ms/step - accuracy: 1.0000 - loss: 1.1545e-04\n",
            "Epoch 88/100\n",
            "30/30 - 0s - 5ms/step - accuracy: 1.0000 - loss: 1.1136e-04\n",
            "Epoch 89/100\n",
            "30/30 - 0s - 5ms/step - accuracy: 1.0000 - loss: 1.0776e-04\n",
            "Epoch 90/100\n",
            "30/30 - 0s - 10ms/step - accuracy: 1.0000 - loss: 1.0418e-04\n",
            "Epoch 91/100\n",
            "30/30 - 0s - 10ms/step - accuracy: 1.0000 - loss: 1.0160e-04\n",
            "Epoch 92/100\n",
            "30/30 - 0s - 10ms/step - accuracy: 1.0000 - loss: 9.9246e-05\n",
            "Epoch 93/100\n",
            "30/30 - 0s - 10ms/step - accuracy: 1.0000 - loss: 9.7506e-05\n",
            "Epoch 94/100\n",
            "30/30 - 0s - 5ms/step - accuracy: 1.0000 - loss: 9.3004e-05\n",
            "Epoch 95/100\n",
            "30/30 - 0s - 5ms/step - accuracy: 1.0000 - loss: 8.9644e-05\n",
            "Epoch 96/100\n",
            "30/30 - 0s - 5ms/step - accuracy: 1.0000 - loss: 8.8044e-05\n",
            "Epoch 97/100\n",
            "30/30 - 0s - 5ms/step - accuracy: 1.0000 - loss: 8.4654e-05\n",
            "Epoch 98/100\n",
            "30/30 - 0s - 10ms/step - accuracy: 1.0000 - loss: 8.2717e-05\n",
            "Epoch 99/100\n",
            "30/30 - 0s - 10ms/step - accuracy: 1.0000 - loss: 8.0989e-05\n",
            "Epoch 100/100\n",
            "30/30 - 0s - 9ms/step - accuracy: 1.0000 - loss: 7.8771e-05\n"
          ]
        },
        {
          "output_type": "execute_result",
          "data": {
            "text/plain": [
              "<keras.src.callbacks.history.History at 0x7f29c87cfc50>"
            ]
          },
          "metadata": {},
          "execution_count": 122
        }
      ]
    },
    {
      "cell_type": "code",
      "source": [
        "#6 Evaluate the model on test data\n",
        "loss, accuracy = model.evaluate(X_test, y_test, verbose=1)\n",
        "\n",
        "print(f\"Test Loss: {loss:.4f}\")\n",
        "print(f\"Test Accuracy: {accuracy:.4f}\")\n"
      ],
      "metadata": {
        "colab": {
          "base_uri": "https://localhost:8080/",
          "height": 0
        },
        "id": "XcE2JCtK3utH",
        "outputId": "4accb65c-99b7-4c05-d47c-464bc57bf0b1"
      },
      "execution_count": 131,
      "outputs": [
        {
          "output_type": "stream",
          "name": "stdout",
          "text": [
            "\u001b[1m6/6\u001b[0m \u001b[32m━━━━━━━━━━━━━━━━━━━━\u001b[0m\u001b[37m\u001b[0m \u001b[1m0s\u001b[0m 9ms/step - accuracy: 1.0000 - loss: 1.1676e-04  \n",
            "Test Loss: 0.0001\n",
            "Test Accuracy: 1.0000\n"
          ]
        }
      ]
    },
    {
      "cell_type": "code",
      "source": [
        "#7 save the model as tic-tac-toe.model\n",
        "\n",
        "model.save(\"tic-tac-toe.model.keras\")"
      ],
      "metadata": {
        "id": "KeQNHQj90nBY"
      },
      "execution_count": 133,
      "outputs": []
    },
    {
      "cell_type": "markdown",
      "metadata": {
        "id": "LhTP-XJiZiZq"
      },
      "source": [
        "## Step 3: Make Predictions\n",
        "\n",
        "Now load your saved model and use it to make predictions on a few random rows in the test dataset. Check if the predictions are correct."
      ]
    },
    {
      "cell_type": "code",
      "source": [
        "from tensorflow.keras.models import load_model\n",
        "\n",
        "model = load_model(\"tic-tac-toe.model.keras\")"
      ],
      "metadata": {
        "id": "1UnTstPv1VgR"
      },
      "execution_count": 138,
      "outputs": []
    },
    {
      "cell_type": "code",
      "execution_count": 143,
      "metadata": {
        "colab": {
          "base_uri": "https://localhost:8080/"
        },
        "id": "oDyOPzeJZiZq",
        "outputId": "c2f15348-142e-4f43-8bf4-836c1c09c118"
      },
      "outputs": [
        {
          "output_type": "stream",
          "name": "stdout",
          "text": [
            "\u001b[1m1/1\u001b[0m \u001b[32m━━━━━━━━━━━━━━━━━━━━\u001b[0m\u001b[37m\u001b[0m \u001b[1m0s\u001b[0m 39ms/step\n",
            "📊 Predictions on random test samples:\n",
            "\n",
            "Sample 1:\n",
            "  True label     : 1\n",
            "  Predicted label: 1\n",
            "Correct\n",
            "\n",
            "Sample 2:\n",
            "  True label     : 0\n",
            "  Predicted label: 0\n",
            "Correct\n",
            "\n",
            "Sample 3:\n",
            "  True label     : 1\n",
            "  Predicted label: 1\n",
            "Correct\n",
            "\n",
            "Sample 4:\n",
            "  True label     : 0\n",
            "  Predicted label: 0\n",
            "Correct\n",
            "\n",
            "Sample 5:\n",
            "  True label     : 0\n",
            "  Predicted label: 0\n",
            "Correct\n",
            "\n"
          ]
        }
      ],
      "source": [
        "num_samples = 5\n",
        "\n",
        "random_indices = np.random.choice(X_test.shape[0], size=num_samples, replace=False)\n",
        "\n",
        "X_sample = X_test[random_indices]\n",
        "y_true = y_test.iloc[random_indices].values # Convert the selected Series to a NumPy array\n",
        "\n",
        "# Predict class probabilities\n",
        "y_pred_probs = model.predict(X_sample)\n",
        "\n",
        "# Convert probabilities to class labels (highest probability)\n",
        "y_pred = np.argmax(y_pred_probs, axis=1)\n",
        "\n",
        "# Compare predictions to actual values\n",
        "print(\"📊 Predictions on random test samples:\\n\")\n",
        "for i in range(num_samples):\n",
        "    print(f\"Sample {i+1}:\")\n",
        "    print(f\"  True label     : {y_true[i]}\")\n",
        "    print(f\"  Predicted label: {y_pred[i]}\")\n",
        "    print(f\"Correct\" if y_true[i] == y_pred[i] else \"Incorrect\")\n",
        "    print()"
      ]
    },
    {
      "cell_type": "markdown",
      "metadata": {
        "id": "KhLOUbyVZiZr"
      },
      "source": [
        "## Step 4: Improve Your Model\n",
        "\n",
        "Did your model achieve low loss (<0.1) and high accuracy (>0.95)? If not, try to improve your model.\n",
        "\n",
        "But how? There are so many things you can play with in Tensorflow and in the next challenge you'll learn about these things. But in this challenge, let's just do a few things to see if they will help.\n",
        "\n",
        "* Add more layers to your model. If the data are complex you need more layers. But don't use more layers than you need. If adding more layers does not improve the model performance you don't need additional layers.\n",
        "* Adjust the learning rate when you compile the model. This means you will create a custom `tf.keras.optimizers.Adam` instance where you specify the learning rate you want. Then pass the instance to `model.compile` as the optimizer.\n",
        "    * `tf.keras.optimizers.Adam` [reference](https://www.tensorflow.org/api_docs/python/tf/keras/optimizers/Adam).\n",
        "    * Don't worry if you don't understand what the learning rate does. You'll learn about it in the next challenge.\n",
        "* Adjust the number of epochs when you fit the training data to the model. Your model performance continues to improve as you train more epochs. But eventually it will reach the ceiling and the performance will stay the same."
      ]
    },
    {
      "cell_type": "code",
      "execution_count": null,
      "metadata": {
        "id": "YUGtPP42ZiZr"
      },
      "outputs": [],
      "source": [
        "# your code here"
      ]
    },
    {
      "cell_type": "markdown",
      "metadata": {
        "id": "xitsNZ28ZiZs"
      },
      "source": [
        "**Which approach(es) did you find helpful to improve your model performance?**"
      ]
    },
    {
      "cell_type": "code",
      "execution_count": null,
      "metadata": {
        "id": "xG_66nsGZiZs"
      },
      "outputs": [],
      "source": [
        "# your answer here"
      ]
    },
    {
      "cell_type": "code",
      "metadata": {
        "id": "bde49221"
      },
      "source": [],
      "execution_count": 136,
      "outputs": []
    }
  ],
  "metadata": {
    "kernelspec": {
      "display_name": "Python 3",
      "language": "python",
      "name": "python3"
    },
    "language_info": {
      "codemirror_mode": {
        "name": "ipython",
        "version": 3
      },
      "file_extension": ".py",
      "mimetype": "text/x-python",
      "name": "python",
      "nbconvert_exporter": "python",
      "pygments_lexer": "ipython3",
      "version": "3.7.3"
    },
    "colab": {
      "provenance": [],
      "toc_visible": true,
      "include_colab_link": true
    }
  },
  "nbformat": 4,
  "nbformat_minor": 0
}